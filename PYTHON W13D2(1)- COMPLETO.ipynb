{
 "cells": [
  {
   "cell_type": "markdown",
   "id": "adffbc7a-1e8f-4b3b-931e-f061b423b1a7",
   "metadata": {},
   "source": [
    "# esercizio w13 d2¶"
   ]
  },
  {
   "cell_type": "markdown",
   "id": "1a965793-0484-4913-884a-b9cf85ee41dc",
   "metadata": {},
   "source": [
    "* 1"
   ]
  },
  {
   "cell_type": "code",
   "execution_count": 17,
   "id": "15078a27-7e10-4e16-b3c8-b942d0225987",
   "metadata": {},
   "outputs": [],
   "source": [
    "studenti = [\"Alex\", \"Bob\", \"Cindy\", \"Dan\", \"Emma\", \"Faith\", \"Grace\", \"Henry\"] \n",
    "corsi = [\"Cybersecurity\", \"Data Analyst\", \"Backend\", \"Frontend\", \"Data Analyst\", \"Backend\"]"
   ]
  },
  {
   "cell_type": "code",
   "execution_count": 20,
   "id": "7e8ce669-5e67-4770-92ae-a2594c231656",
   "metadata": {},
   "outputs": [
    {
     "data": {
      "text/plain": [
       "8"
      ]
     },
     "execution_count": 20,
     "metadata": {},
     "output_type": "execute_result"
    }
   ],
   "source": [
    "len(studenti)"
   ]
  },
  {
   "cell_type": "code",
   "execution_count": 23,
   "id": "af481ac8-2673-4c3f-9835-18088f30fb2b",
   "metadata": {},
   "outputs": [
    {
     "data": {
      "text/plain": [
       "6"
      ]
     },
     "execution_count": 23,
     "metadata": {},
     "output_type": "execute_result"
    }
   ],
   "source": [
    "len(corsi)"
   ]
  },
  {
   "cell_type": "code",
   "execution_count": 26,
   "id": "c6110ce6-871e-430b-b1d8-c7325394a17a",
   "metadata": {},
   "outputs": [],
   "source": [
    "corsi.append(\"Frontend\")"
   ]
  },
  {
   "cell_type": "code",
   "execution_count": 30,
   "id": "f504b840-fc2c-43fd-bdc8-628046b2c268",
   "metadata": {},
   "outputs": [
    {
     "data": {
      "text/plain": [
       "7"
      ]
     },
     "execution_count": 30,
     "metadata": {},
     "output_type": "execute_result"
    }
   ],
   "source": [
    "len(corsi)"
   ]
  },
  {
   "cell_type": "code",
   "execution_count": 33,
   "id": "52c5c13d-782e-46e2-882d-fda1cbfb2ed1",
   "metadata": {},
   "outputs": [],
   "source": [
    "corsi.append(\"Cybersecurity\")"
   ]
  },
  {
   "cell_type": "code",
   "execution_count": 36,
   "id": "d0412f2d-14e9-4d71-b03b-95cac920a4bb",
   "metadata": {},
   "outputs": [
    {
     "data": {
      "text/plain": [
       "8"
      ]
     },
     "execution_count": 36,
     "metadata": {},
     "output_type": "execute_result"
    }
   ],
   "source": [
    "len(corsi)"
   ]
  },
  {
   "cell_type": "markdown",
   "id": "7be4f60a-e408-41ec-bc1f-c260659c2136",
   "metadata": {},
   "source": [
    "* 2"
   ]
  },
  {
   "cell_type": "code",
   "execution_count": 44,
   "id": "63afa083-b405-4253-ac79-0e5ee2290593",
   "metadata": {},
   "outputs": [
    {
     "name": "stdin",
     "output_type": "stream",
     "text": [
      "inserisci una parola e premi invio: francesco\n"
     ]
    },
    {
     "name": "stdout",
     "output_type": "stream",
     "text": [
      "le prime tre lettere sono:\n",
      "fra\n",
      "le ultime tre lettere sono:\n",
      "sco\n",
      "la parola incolpleta è:\n",
      "fra...sco\n"
     ]
    }
   ],
   "source": [
    "parola = input(\"inserisci una parola e premi invio:\")\n",
    "prime_lettere = parola[:3]\n",
    "ultime_lettere = parola[-3:]\n",
    "print(\"le prime tre lettere sono:\")\n",
    "print(prime_lettere)\n",
    "print(\"le ultime tre lettere sono:\")\n",
    "print(ultime_lettere)\n",
    "puntini = \"...\"\n",
    "parola_incompleta=prime_lettere+puntini+ultime_lettere\n",
    "print(\"la parola incolpleta è:\")\n",
    "print(parola_incompleta)"
   ]
  },
  {
   "cell_type": "markdown",
   "id": "24ce971f-f913-48ec-a68d-2a4a500151b3",
   "metadata": {},
   "source": [
    "* 3"
   ]
  },
  {
   "cell_type": "code",
   "execution_count": 47,
   "id": "cf2acfa6-1984-450c-adf5-b9be516bc968",
   "metadata": {},
   "outputs": [],
   "source": [
    "conducenti = {\n",
    "    \"ada\":\"punto\",\n",
    "    \"ben\":\"multipla\",\n",
    "    \"charlie\":\"golf\",\n",
    "    \"debbie\":\"107\"\n",
    "} "
   ]
  },
  {
   "cell_type": "code",
   "execution_count": 49,
   "id": "ceb16934-c49d-46bc-951d-3eebec054db6",
   "metadata": {},
   "outputs": [
    {
     "name": "stdout",
     "output_type": "stream",
     "text": [
      "{'ada': 'punto', 'ben': 'multipla', 'charlie': 'golf', 'debbie': '107'}\n"
     ]
    }
   ],
   "source": [
    "print(conducenti)"
   ]
  },
  {
   "cell_type": "code",
   "execution_count": 55,
   "id": "377bc5e7-77c1-4ee5-ae85-190facfabd66",
   "metadata": {},
   "outputs": [
    {
     "data": {
      "text/plain": [
       "'107'"
      ]
     },
     "execution_count": 55,
     "metadata": {},
     "output_type": "execute_result"
    }
   ],
   "source": [
    "conducenti[\"debbie\"]"
   ]
  },
  {
   "cell_type": "markdown",
   "id": "c46a9366-1a1f-478f-bd16-1a9d1951d99b",
   "metadata": {},
   "source": [
    "* 4"
   ]
  },
  {
   "cell_type": "code",
   "execution_count": 58,
   "id": "b6881bed-a937-4847-bda8-a83afd11c621",
   "metadata": {},
   "outputs": [],
   "source": [
    "dizionario_auto = {\"Ada\": \"Punto\", \"Ben\": \"Multipla\", \"Charlie\": \"Golf\", \"Debbie\": \"107\", \"Emily\": \"A1\"} \n",
    "nuovi_proprietari = {\"Ben\": \"Polo\", \"Fred\": \"Octavia\", \"Grace\": \"Yaris\", \"Hugh\": \"Clio\"}"
   ]
  },
  {
   "cell_type": "code",
   "execution_count": 62,
   "id": "dcc0483a-0f54-4d14-8f56-62d9d7b645f9",
   "metadata": {},
   "outputs": [
    {
     "name": "stdout",
     "output_type": "stream",
     "text": [
      "{'Ada': 'Punto', 'Ben': 'Multipla', 'Charlie': 'Golf', 'Debbie': '107', 'Emily': 'A1'}\n"
     ]
    }
   ],
   "source": [
    "print(dizionario_auto)"
   ]
  },
  {
   "cell_type": "code",
   "execution_count": 64,
   "id": "cb9ac5d8-8aa9-4a2e-8d25-ec4694da5f37",
   "metadata": {},
   "outputs": [],
   "source": [
    "dizionario_auto.update(nuovi_proprietari)"
   ]
  },
  {
   "cell_type": "code",
   "execution_count": 66,
   "id": "4a58af48-653d-4383-a715-d16312672cd8",
   "metadata": {},
   "outputs": [
    {
     "name": "stdout",
     "output_type": "stream",
     "text": [
      "{'Ada': 'Punto', 'Ben': 'Polo', 'Charlie': 'Golf', 'Debbie': '107', 'Emily': 'A1', 'Fred': 'Octavia', 'Grace': 'Yaris', 'Hugh': 'Clio'}\n"
     ]
    }
   ],
   "source": [
    "print(dizionario_auto)"
   ]
  },
  {
   "cell_type": "markdown",
   "id": "d9a2ba5d-2a6b-4529-8a6b-de32a4df8ffe",
   "metadata": {},
   "source": [
    "* 5"
   ]
  },
  {
   "cell_type": "code",
   "execution_count": 69,
   "id": "d558ecd1-9b47-4b1b-9cd9-fb1bea68a952",
   "metadata": {},
   "outputs": [],
   "source": [
    "numeri = [3,30,300,3000,30000]"
   ]
  },
  {
   "cell_type": "code",
   "execution_count": 71,
   "id": "41146964-9ccc-4622-b5eb-3ccb57d292cd",
   "metadata": {},
   "outputs": [
    {
     "data": {
      "text/plain": [
       "30000"
      ]
     },
     "execution_count": 71,
     "metadata": {},
     "output_type": "execute_result"
    }
   ],
   "source": [
    "max(numeri)"
   ]
  },
  {
   "cell_type": "code",
   "execution_count": 73,
   "id": "61f0fe90-f2cb-4e39-b407-ef425351232c",
   "metadata": {},
   "outputs": [
    {
     "data": {
      "text/plain": [
       "3"
      ]
     },
     "execution_count": 73,
     "metadata": {},
     "output_type": "execute_result"
    }
   ],
   "source": [
    "min(numeri)"
   ]
  },
  {
   "cell_type": "markdown",
   "id": "1612a946-24b9-4f91-af8c-0f30c9351eb4",
   "metadata": {},
   "source": [
    "* 6"
   ]
  },
  {
   "cell_type": "code",
   "execution_count": 88,
   "id": "3a4d57c9-6223-4315-ae44-9c23c76c97e4",
   "metadata": {},
   "outputs": [
    {
     "name": "stdout",
     "output_type": "stream",
     "text": [
      "il numero più grande è: 30000\n",
      "il secondo numero più grande è : 3000\n",
      "il terzo numero più grande è : 300\n"
     ]
    }
   ],
   "source": [
    "numeri = [3,30,300,3000,30000]\n",
    "massimo = max(numeri)\n",
    "print(\"il numero più grande è:\",massimo)\n",
    "numeri.remove (massimo)\n",
    "massimo = max(numeri)\n",
    "print(\"il secondo numero più grande è :\",massimo)\n",
    "numeri.remove(massimo)\n",
    "massimo = max(numeri)\n",
    "print(\"il terzo numero più grande è :\",massimo)"
   ]
  },
  {
   "cell_type": "markdown",
   "id": "950f76f9-6bdc-473a-918d-0be183de99ab",
   "metadata": {},
   "source": [
    "* 7"
   ]
  },
  {
   "cell_type": "code",
   "execution_count": 101,
   "id": "63b87aee-f3a6-4582-860c-658491339230",
   "metadata": {},
   "outputs": [],
   "source": [
    "prezzo = \"100 €\""
   ]
  },
  {
   "cell_type": "code",
   "execution_count": 103,
   "id": "358bbf77-554d-4b6f-9944-c05235b28b7c",
   "metadata": {},
   "outputs": [
    {
     "data": {
      "text/plain": [
       "'100 $'"
      ]
     },
     "execution_count": 103,
     "metadata": {},
     "output_type": "execute_result"
    }
   ],
   "source": [
    "prezzo.replace (\"€\",\"$\")"
   ]
  },
  {
   "cell_type": "markdown",
   "id": "4387cf87-9c26-4d34-adc7-e9b7e20a324b",
   "metadata": {},
   "source": [
    "* 8"
   ]
  },
  {
   "cell_type": "code",
   "execution_count": 106,
   "id": "de398b4b-d201-4790-a81f-c4b67c1486c9",
   "metadata": {},
   "outputs": [],
   "source": [
    "studenti = [\"Alex\", \"Bob\", \"Cindy\", \"Dan\", \"Emma\", \"Faith\", \"Grace\", \"Henry\", \"Isabelle\", \"John\"]"
   ]
  },
  {
   "cell_type": "code",
   "execution_count": 148,
   "id": "c95821cb-324f-4959-9409-9d051ca48f01",
   "metadata": {},
   "outputs": [],
   "source": [
    "squadra1 = studenti[::2]"
   ]
  },
  {
   "cell_type": "code",
   "execution_count": 150,
   "id": "d4436ef7-31c7-4479-bf06-3012c45eb426",
   "metadata": {},
   "outputs": [],
   "source": [
    "squadra2 = studenti[1::2]"
   ]
  },
  {
   "cell_type": "code",
   "execution_count": 162,
   "id": "98507c62-3555-4319-9579-a8b741f51866",
   "metadata": {},
   "outputs": [
    {
     "name": "stdout",
     "output_type": "stream",
     "text": [
      "nella squadra 1 ci sono: ['Alex', 'Cindy', 'Emma', 'Grace', 'Isabelle']\n",
      "nella squadra 2 ci sono: ['Bob', 'Dan', 'Faith', 'Henry', 'John']\n"
     ]
    }
   ],
   "source": [
    "print(\"nella squadra 1 ci sono:\", squadra1)\n",
    "print(\"nella squadra 2 ci sono:\",squadra2)"
   ]
  },
  {
   "cell_type": "markdown",
   "id": "75abade8-ac38-454c-9b2d-4fb1d286707a",
   "metadata": {},
   "source": []
  },
  {
   "cell_type": "markdown",
   "id": "0b620c51-2bc8-420b-be9c-ca2260dad503",
   "metadata": {},
   "source": [
    "* 9"
   ]
  },
  {
   "cell_type": "code",
   "execution_count": 8,
   "id": "6882563c-3e65-4e73-abd6-a675dd78f02e",
   "metadata": {},
   "outputs": [
    {
     "name": "stdout",
     "output_type": "stream",
     "text": [
      "E\n",
      "p\n",
      "i\n",
      "c\n",
      "o\n",
      "d\n",
      "e\n",
      "FINITO\n"
     ]
    }
   ],
   "source": [
    "nome_scuola = \"Epicode\"\n",
    "indice = 0\n",
    "while indice <7:\n",
    "    print ( nome_scuola [indice] )\n",
    "    indice += 1\n",
    "print(\"FINITO\")\n",
    "    "
   ]
  },
  {
   "cell_type": "markdown",
   "id": "cd3086d2-9849-4faf-a376-52b8a6afc056",
   "metadata": {},
   "source": [
    "* 10"
   ]
  },
  {
   "cell_type": "code",
   "execution_count": 10,
   "id": "f208077b-138d-4221-8088-5bcf9113b8a1",
   "metadata": {},
   "outputs": [
    {
     "name": "stdout",
     "output_type": "stream",
     "text": [
      "0\n",
      "1\n",
      "2\n",
      "3\n",
      "4\n",
      "5\n",
      "6\n",
      "7\n",
      "8\n",
      "9\n",
      "10\n",
      "11\n",
      "12\n",
      "13\n",
      "14\n",
      "15\n",
      "16\n",
      "17\n",
      "18\n",
      "19\n",
      "20\n"
     ]
    }
   ],
   "source": [
    "numeri=0\n",
    "while numeri<=20:\n",
    "    print(numeri)\n",
    "    numeri+=1"
   ]
  },
  {
   "cell_type": "markdown",
   "id": "cd4b5bcb-92d0-450f-8455-2a6035634966",
   "metadata": {},
   "source": [
    "* 11"
   ]
  },
  {
   "cell_type": "code",
   "execution_count": 15,
   "id": "14537f88-df70-45bf-b676-8748a4e4d287",
   "metadata": {},
   "outputs": [
    {
     "name": "stdout",
     "output_type": "stream",
     "text": [
      "1\n",
      "2\n",
      "4\n",
      "8\n",
      "16\n",
      "32\n",
      "64\n",
      "128\n",
      "256\n",
      "512\n",
      "1024\n",
      "finito\n"
     ]
    }
   ],
   "source": [
    "numero=0\n",
    "while numero<=10:\n",
    "    print(2**numero)\n",
    "    numero+=1\n",
    "print (\"finito\")"
   ]
  },
  {
   "cell_type": "markdown",
   "id": "87517962-39e5-4f27-9c36-6e94dc1ef3c0",
   "metadata": {},
   "source": [
    "* 12"
   ]
  },
  {
   "cell_type": "code",
   "execution_count": 23,
   "id": "50551790-f30d-4883-87a6-e03c37a49ab1",
   "metadata": {},
   "outputs": [
    {
     "name": "stdin",
     "output_type": "stream",
     "text": [
      "inserisci un numero da elevare alla potenza: 10\n"
     ]
    },
    {
     "name": "stdout",
     "output_type": "stream",
     "text": [
      "1\n",
      "2\n",
      "4\n",
      "8\n",
      "16\n",
      "32\n",
      "64\n",
      "128\n",
      "256\n",
      "512\n",
      "FINITO\n"
     ]
    }
   ],
   "source": [
    "numero=0\n",
    "n=input(\"inserisci un numero da elevare alla potenza:\")\n",
    "n=int(n)\n",
    "while numero<n:\n",
    "    pot2=2**numero\n",
    "    print(pot2)\n",
    "    numero+=1\n",
    "print(\"FINITO\")    "
   ]
  },
  {
   "cell_type": "markdown",
   "id": "37a1da13-351f-46b2-b4d6-44b574f08eb2",
   "metadata": {},
   "source": [
    "* 13"
   ]
  },
  {
   "cell_type": "code",
   "execution_count": 5,
   "id": "8fa9282b-e848-4910-9590-c3bdca6de6da",
   "metadata": {},
   "outputs": [
    {
     "name": "stdout",
     "output_type": "stream",
     "text": [
      "ESPONENTE 0 RISULTATO 1\n",
      "ESPONENTE 1 RISULTATO 2\n",
      "ESPONENTE 2 RISULTATO 4\n",
      "ESPONENTE 3 RISULTATO 8\n",
      "ESPONENTE 4 RISULTATO 16\n",
      "ESPONENTE 5 RISULTATO 32\n",
      "ESPONENTE 6 RISULTATO 64\n",
      "ESPONENTE 7 RISULTATO 128\n",
      "ESPONENTE 8 RISULTATO 256\n",
      "ESPONENTE 9 RISULTATO 512\n",
      "ESPONENTE 10 RISULTATO 1024\n",
      "ESPONENTE 11 RISULTATO 2048\n",
      "ESPONENTE 12 RISULTATO 4096\n",
      "ESPONENTE 13 RISULTATO 8192\n",
      "ESPONENTE 14 RISULTATO 16384\n",
      "Finito\n"
     ]
    }
   ],
   "source": [
    "base = 2\n",
    "esponente = 0\n",
    "risultato = base ** esponente\n",
    "\n",
    "while risultato < 25000:\n",
    "    print(\"ESPONENTE\",esponente,\"RISULTATO\",risultato)\n",
    "    esponente += 1\n",
    "    risultato = base ** esponente\n",
    "\n",
    "print(\"Finito\")"
   ]
  },
  {
   "cell_type": "markdown",
   "id": "17fbd315-7758-4314-b124-5123b91c9f0a",
   "metadata": {},
   "source": [
    "* 14"
   ]
  },
  {
   "cell_type": "code",
   "execution_count": 18,
   "id": "d844ec5a-f10f-4d6b-bafd-d94c3d316524",
   "metadata": {},
   "outputs": [
    {
     "name": "stdin",
     "output_type": "stream",
     "text": [
      "Inserisci N: 10\n",
      "Inserisci K: 10\n"
     ]
    },
    {
     "name": "stdout",
     "output_type": "stream",
     "text": [
      "Risultati: [1, 10, 100, 1000, 10000, 100000, 1000000, 10000000, 100000000, 1000000000]\n"
     ]
    }
   ],
   "source": [
    "N = input(\"Inserisci N:\")\n",
    "N = int(N)\n",
    "lista_degli_esponenti = list( range(N) )\n",
    "K = input(\"Inserisci K:\")\n",
    "K = int(K)\n",
    "risultati = []\n",
    "\n",
    "for esponente in lista_degli_esponenti:\n",
    "    risultato = K ** esponente\n",
    "    risultati.append( risultato )\n",
    "    \n",
    "print(\"Risultati:\", risultati)"
   ]
  },
  {
   "cell_type": "markdown",
   "id": "88d3d38e-1ad2-410c-90ff-361c73224a1f",
   "metadata": {},
   "source": [
    "* 15"
   ]
  },
  {
   "cell_type": "code",
   "execution_count": 32,
   "id": "d4195fd8-bfab-4ecd-be49-6082f1faec11",
   "metadata": {},
   "outputs": [
    {
     "name": "stdout",
     "output_type": "stream",
     "text": [
      "Risultato: 93.33333333333333\n"
     ]
    }
   ],
   "source": [
    "guadagni = [100, 90, 70, 40, 50, 80, 90, 120, 80, 20, 50, 50]\n",
    "mesi = len(guadagni)\n",
    "\n",
    "\n",
    "somma = 0\n",
    "contatore = 0\n",
    "\n",
    "for guadagno in guadagni:\n",
    "    if guadagno >= 80:\n",
    "        somma += guadagno\n",
    "        contatore += 1\n",
    "    \n",
    "risultato = somma / contatore\n",
    "\n",
    "print(\"Risultato:\", risultato)"
   ]
  },
  {
   "cell_type": "markdown",
   "id": "9be5c989-401d-4592-b74f-b276afbb7d28",
   "metadata": {},
   "source": [
    "* 16"
   ]
  },
  {
   "cell_type": "code",
   "execution_count": 63,
   "id": "ce471e66-8468-4ba5-a791-295732f476ad",
   "metadata": {},
   "outputs": [
    {
     "name": "stdout",
     "output_type": "stream",
     "text": [
      "parola Albergo numero di Ee: 1\n",
      "parola Sedia numero di Ee: 1\n",
      "parola Borgo numero di Ee: 0\n",
      "parola Petalo numero di Ee: 1\n",
      "parola Eremo numero di Ee: 2\n",
      "parola Belvedere numero di Ee: 4\n",
      "parola Semestre numero di Ee: 3\n",
      "parola Esteta numero di Ee: 2\n",
      "parola Sosta numero di Ee: 0\n",
      "parola Orpello numero di Ee: 1\n",
      "parola Abete numero di Ee: 2\n",
      "parola Orologio numero di Ee: 0\n",
      "parola Cesta numero di Ee: 1\n",
      "parola Ermellino numero di Ee: 2\n"
     ]
    }
   ],
   "source": [
    "parole = [\"Albergo\", \"Sedia\", \"Borgo\", \"Petalo\", \"Eremo\", \"Belvedere\",\n",
    "          \"Semestre\", \"Esteta\", \"Sosta\", \"Orpello\",\n",
    "          \"Abete\", \"Orologio\", \"Cesta\", \"Ermellino\"]\n",
    "for parola in parole:\n",
    "    \n",
    "    contatore = 0 \n",
    "    \n",
    "    for lettera in parola:\n",
    "     if lettera == \"e\" or lettera == \"E\":\n",
    "        contatore += 1\n",
    "         \n",
    "    print(\"parola\",parola,\"numero di Ee:\",contatore)"
   ]
  },
  {
   "cell_type": "markdown",
   "id": "ebcd2389-61e6-4258-90ad-4f9e8966be1a",
   "metadata": {},
   "source": [
    "* 17"
   ]
  },
  {
   "cell_type": "code",
   "execution_count": 66,
   "id": "e7c28a4c-f76e-40dd-afb1-3edca49cf8b6",
   "metadata": {},
   "outputs": [
    {
     "data": {
      "text/plain": [
       "[100, 90, 70, 40, 50, 80, 90, 120, 80, 20, 50, 50]"
      ]
     },
     "execution_count": 66,
     "metadata": {},
     "output_type": "execute_result"
    }
   ],
   "source": [
    "guadagni"
   ]
  },
  {
   "cell_type": "code",
   "execution_count": 72,
   "id": "9daabb2c-2210-4400-883c-1bb51d26ebf3",
   "metadata": {},
   "outputs": [
    {
     "data": {
      "text/plain": [
       "120"
      ]
     },
     "execution_count": 72,
     "metadata": {},
     "output_type": "execute_result"
    }
   ],
   "source": [
    "max(guadagni)"
   ]
  },
  {
   "cell_type": "markdown",
   "id": "e9a82cd9-f8a3-47d7-9554-b37949175450",
   "metadata": {},
   "source": [
    "* 18"
   ]
  },
  {
   "cell_type": "code",
   "execution_count": 79,
   "id": "3e9bcede-f87f-44bd-a823-afe8ac8d5a7e",
   "metadata": {},
   "outputs": [
    {
     "name": "stdout",
     "output_type": "stream",
     "text": [
      "[120, 100, 90]\n"
     ]
    }
   ],
   "source": [
    "numeri = [100, 90, 70, 40, 50, 80, 90, 120, 80, 20, 50, 50]\n",
    "\n",
    "tre_numeri_più_grandi = []\n",
    "\n",
    "if len(numeri) <= 3:\n",
    "    print(numeri)\n",
    "    \n",
    "else:\n",
    "    massimo = max(numeri)\n",
    "    tre_numeri_più_grandi.append(massimo)\n",
    "    numeri.remove( massimo )\n",
    "\n",
    "    massimo = max(numeri)\n",
    "    tre_numeri_più_grandi.append(massimo)\n",
    "    numeri.remove( massimo )\n",
    "\n",
    "    massimo = max(numeri)\n",
    "    tre_numeri_più_grandi.append(massimo)\n",
    "    numeri.remove( massimo )\n",
    "\n",
    "    print(tre_numeri_più_grandi)\n"
   ]
  },
  {
   "cell_type": "markdown",
   "id": "a42973b8-e168-4961-ac87-0f1421f19b49",
   "metadata": {},
   "source": [
    "* 19"
   ]
  },
  {
   "cell_type": "code",
   "execution_count": 91,
   "id": "b312c252-dfa2-41c9-a0e4-5bb8def8e800",
   "metadata": {},
   "outputs": [
    {
     "name": "stdout",
     "output_type": "stream",
     "text": [
      " *  *  *  *  * \n",
      " *  * \n",
      " *  *  * \n",
      " *  *  *  * \n",
      " *  *  *  *  *  * \n"
     ]
    }
   ],
   "source": [
    "numeri = [5, 2, 3, 4, 6,]\n",
    "\n",
    "for numero in numeri:\n",
    "    graph = \" * \" * numero\n",
    "    print(graph)"
   ]
  },
  {
   "cell_type": "markdown",
   "id": "0f8ab5e2-f70a-40a1-9262-41fd430236aa",
   "metadata": {},
   "source": [
    "* 20"
   ]
  },
  {
   "cell_type": "code",
   "execution_count": 95,
   "id": "c0b8f7a6-67d9-4c87-b703-6fc7b44b8378",
   "metadata": {},
   "outputs": [
    {
     "name": "stdout",
     "output_type": "stream",
     "text": [
      "ABCDEF95G01A123B -nome: ABC -cognome: DEF\n",
      "STUVWX95Z04A654E -nome: STU -cognome: VWX\n",
      "DEFGHI95J06A987G -nome: DEF -cognome: GHI\n",
      "['ABCDEF95G01A123B', 'STUVWX95Z04A654E', 'DEFGHI95J06A987G']\n"
     ]
    }
   ],
   "source": [
    "lista_cf = [\"ABCDEF95G01A123B\", \"GHIJKL91M02A321C\", \"MNOPQR89S03A456D\", \n",
    "            \"STUVWX95Z04A654E\", \"XYZABC01D05A789F\", \"DEFGHI95J06A987G\"]\n",
    "\n",
    "lista_95 = []\n",
    "\n",
    "for cf in lista_cf:\n",
    "    if \"95\" in cf:\n",
    "        lista_95.append( cf )\n",
    "        caratteri_nome = cf[:3]\n",
    "        caratteri_cognome = cf[3:6]\n",
    "        print(cf,\"-nome:\",caratteri_nome,\"-cognome:\",caratteri_cognome)\n",
    "\n",
    "print(lista_95)"
   ]
  },
  {
   "cell_type": "markdown",
   "id": "8f657a4b-4568-4916-8b1f-ca3066834fb7",
   "metadata": {},
   "source": [
    "* 21"
   ]
  },
  {
   "cell_type": "code",
   "execution_count": 98,
   "id": "914b304e-86b4-4b53-83bd-92adc53604cc",
   "metadata": {},
   "outputs": [
    {
     "name": "stdout",
     "output_type": "stream",
     "text": [
      "Alex\n",
      "Faith\n"
     ]
    }
   ],
   "source": [
    "studenti = [\"Alex\", \"Bob\", \"Cindy\", \"Dan\", \"Emma\", \"Faith\", \"Grace\", \"Henry\"] \n",
    "corsi = [\"Cybersecurity\", \"Data Analyst\", \"Backend\", \"Frontend\", \"Data Analyst\", \"Backend\", \"Frontend\", \"Cybersecurity\"] \n",
    "edizioni = [1, 2, 3, 2, 2, 1, 3, 3]\n",
    "\n",
    "indici = range( len(studenti) )\n",
    "indici = list(indici) #casting\n",
    "\n",
    "for indice in indici:\n",
    "    studente = studenti[indice]\n",
    "    edizione = edizioni[indice]\n",
    "    if edizione == 1:\n",
    "        print(studente)"
   ]
  },
  {
   "cell_type": "code",
   "execution_count": null,
   "id": "f44a206b-68a2-45eb-8e61-3b1768266994",
   "metadata": {},
   "outputs": [],
   "source": []
  }
 ],
 "metadata": {
  "kernelspec": {
   "display_name": "Python 3 (ipykernel)",
   "language": "python",
   "name": "python3"
  },
  "language_info": {
   "codemirror_mode": {
    "name": "ipython",
    "version": 3
   },
   "file_extension": ".py",
   "mimetype": "text/x-python",
   "name": "python",
   "nbconvert_exporter": "python",
   "pygments_lexer": "ipython3",
   "version": "3.11.7"
  }
 },
 "nbformat": 4,
 "nbformat_minor": 5
}
